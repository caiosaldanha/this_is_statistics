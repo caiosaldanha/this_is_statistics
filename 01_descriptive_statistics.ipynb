{
 "cells": [
  {
   "attachments": {},
   "cell_type": "markdown",
   "metadata": {},
   "source": [
    "## Descriptive Statistics\n",
    "\n",
    "Methods for summarizing and describing data, including measures of central tendency (e.g., mean, median, mode) and measures of dispersion (e.g., range, variance, standard deviation)\n",
    "\n",
    "\n",
    "- Measures of central tendency\n",
    "  - Mean\n",
    "  - Median\n",
    "  - Mode\n",
    "- Measures of dispersion\n",
    "  - Range\n",
    "  - Variance\n",
    "  - Standard deviation"
   ]
  },
  {
   "attachments": {},
   "cell_type": "markdown",
   "metadata": {},
   "source": [
    "## Measures of Central tendency"
   ]
  },
  {
   "cell_type": "code",
   "execution_count": null,
   "metadata": {},
   "outputs": [],
   "source": [
    "# Mean - loop\n",
    "\n",
    "data = [10, 20, 30, 40, 50]\n",
    "summing = 0\n",
    "for value in data:\n",
    "    summing += value\n",
    "mean = summing / len(data)\n",
    "print(\"Mean:\", mean)\n"
   ]
  }
 ],
 "metadata": {
  "language_info": {
   "name": "python"
  },
  "orig_nbformat": 4
 },
 "nbformat": 4,
 "nbformat_minor": 2
}
