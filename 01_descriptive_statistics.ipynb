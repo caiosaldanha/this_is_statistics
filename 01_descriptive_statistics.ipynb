{
 "cells": [
  {
   "attachments": {},
   "cell_type": "markdown",
   "metadata": {},
   "source": [
    "## Descriptive Statistics\n",
    "\n",
    "Methods for summarizing and describing data, including measures of central tendency (e.g., mean, median, mode) and measures of dispersion (e.g., range, variance, standard deviation)\n",
    "\n",
    "\n",
    "- Measures of central tendency\n",
    "  - Mean: The sum of all values divided by the number of values. Synonym: average.\n",
    "  - Median: The value such that one-half of the data lies above and below. Synonym: 50th percentile.\n",
    "  - Mode: The most frequently occurring value in a dataset. Synonyms: modal value, peak.\n",
    "- Measures of dispersion\n",
    "  - Range: The difference between the maximum and minimum values in a dataset. Synonyms: data range, spread.\n",
    "  - Variance: A measure of how much the data deviates from the mean. It is calculated as the average of the squared differences between each data point and the mean. Synonyms: mean squared deviation, average deviation.\n",
    "  - Standard deviation: The square root of the variance. It measures how spread out the data is from the mean. Synonyms: SD, sigma."
   ]
  },
  {
   "attachments": {},
   "cell_type": "markdown",
   "metadata": {},
   "source": [
    "## Measures of Central tendency\n",
    "\n",
    "### Mean"
   ]
  },
  {
   "cell_type": "code",
   "execution_count": 37,
   "metadata": {},
   "outputs": [
    {
     "name": "stdout",
     "output_type": "stream",
     "text": [
      "CPU times: user 2 µs, sys: 0 ns, total: 2 µs\n",
      "Wall time: 5.72 µs\n"
     ]
    },
    {
     "data": {
      "text/plain": [
       "30.0"
      ]
     },
     "execution_count": 37,
     "metadata": {},
     "output_type": "execute_result"
    }
   ],
   "source": [
    "# Method 1 - loop\n",
    "%time\n",
    "data = [10, 20, 30, 40, 50]\n",
    "summing = 0\n",
    "for value in data:\n",
    "    summing += value\n",
    "mean = summing / len(data)\n",
    "mean"
   ]
  },
  {
   "cell_type": "code",
   "execution_count": 38,
   "metadata": {},
   "outputs": [
    {
     "name": "stdout",
     "output_type": "stream",
     "text": [
      "CPU times: user 2 µs, sys: 1e+03 ns, total: 3 µs\n",
      "Wall time: 6.2 µs\n"
     ]
    },
    {
     "data": {
      "text/plain": [
       "30.0"
      ]
     },
     "execution_count": 38,
     "metadata": {},
     "output_type": "execute_result"
    }
   ],
   "source": [
    "# Method 2 - sum() function\n",
    "%time\n",
    "dados = [10, 20, 30, 40, 50]\n",
    "media = sum(dados) / len(dados)\n",
    "media"
   ]
  },
  {
   "cell_type": "code",
   "execution_count": 39,
   "metadata": {},
   "outputs": [
    {
     "name": "stdout",
     "output_type": "stream",
     "text": [
      "CPU times: user 2 µs, sys: 1e+03 ns, total: 3 µs\n",
      "Wall time: 5.48 µs\n"
     ]
    },
    {
     "data": {
      "text/plain": [
       "30.0"
      ]
     },
     "execution_count": 39,
     "metadata": {},
     "output_type": "execute_result"
    }
   ],
   "source": [
    "# Method 3 - numpy mean() function\n",
    "%time\n",
    "import numpy as np\n",
    "\n",
    "dados = [10, 20, 30, 40, 50]\n",
    "media = np.mean(dados)\n",
    "media"
   ]
  },
  {
   "cell_type": "code",
   "execution_count": 40,
   "metadata": {},
   "outputs": [
    {
     "name": "stdout",
     "output_type": "stream",
     "text": [
      "CPU times: user 2 µs, sys: 1e+03 ns, total: 3 µs\n",
      "Wall time: 5.72 µs\n"
     ]
    },
    {
     "data": {
      "text/plain": [
       "30.0"
      ]
     },
     "execution_count": 40,
     "metadata": {},
     "output_type": "execute_result"
    }
   ],
   "source": [
    "# Method 4 - list comprehension\n",
    "%time\n",
    "dados = [10, 20, 30, 40, 50]\n",
    "media = sum([valor for valor in dados]) / len(dados)\n",
    "media"
   ]
  }
 ],
 "metadata": {
  "kernelspec": {
   "display_name": "Python 3",
   "language": "python",
   "name": "python3"
  },
  "language_info": {
   "codemirror_mode": {
    "name": "ipython",
    "version": 3
   },
   "file_extension": ".py",
   "mimetype": "text/x-python",
   "name": "python",
   "nbconvert_exporter": "python",
   "pygments_lexer": "ipython3",
   "version": "3.10.4"
  },
  "orig_nbformat": 4
 },
 "nbformat": 4,
 "nbformat_minor": 2
}
